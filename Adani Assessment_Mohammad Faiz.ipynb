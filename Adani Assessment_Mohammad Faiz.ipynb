{
 "cells": [
  {
   "cell_type": "code",
   "execution_count": null,
   "metadata": {},
   "outputs": [],
   "source": [
    "import random\n",
    "\n",
    "\n",
    "def Ranmat(numberOfRows, numberOfColumns):\n",
    "    \n",
    "    matrix = []\n",
    "    for i in range(numberOfRows):\n",
    "     \n",
    "        row = []\n",
    "        for j in range(numberOfColumns):\n",
    "           row.append(random.randint(0, 100))\n",
    "        matrix.append(row)\n",
    "    return matrix\n",
    "\n",
    "def sortlist(matrix, column_index):\n",
    "    return sorted(matrix, key=lambda x: x[column_index])"
   ]
  },
  {
   "cell_type": "code",
   "execution_count": null,
   "metadata": {},
   "outputs": [],
   "source": [
    "Ranmat(3,4)"
   ]
  },
  {
   "cell_type": "code",
   "execution_count": null,
   "metadata": {},
   "outputs": [],
   "source": [
    "sortlist(Ranmat(3,4),4)"
   ]
  },
  {
   "cell_type": "code",
   "execution_count": null,
   "metadata": {},
   "outputs": [],
   "source": []
  }
 ],
 "metadata": {
  "kernelspec": {
   "display_name": "Python 3",
   "language": "python",
   "name": "python3"
  },
  "language_info": {
   "codemirror_mode": {
    "name": "ipython",
    "version": 3
   },
   "file_extension": ".py",
   "mimetype": "text/x-python",
   "name": "python",
   "nbconvert_exporter": "python",
   "pygments_lexer": "ipython3",
   "version": "3.8.5"
  }
 },
 "nbformat": 4,
 "nbformat_minor": 4
}
